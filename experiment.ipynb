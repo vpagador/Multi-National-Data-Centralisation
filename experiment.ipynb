{
 "cells": [
  {
   "cell_type": "code",
   "execution_count": 173,
   "metadata": {},
   "outputs": [],
   "source": [
    "import yaml\n",
    "import psycopg2\n",
    "from yaml.loader import SafeLoader\n",
    "from sqlalchemy import create_engine   \n",
    "from database_utils import DatabaseConnector\n",
    "import pandas as pd\n",
    "from sqlalchemy import inspect"
   ]
  },
  {
   "cell_type": "code",
   "execution_count": 174,
   "metadata": {},
   "outputs": [
    {
     "data": {
      "text/plain": [
       "{'RDS_HOST': 'data-handling-project-readonly.cq2e8zno855e.eu-west-1.rds.amazonaws.com',\n",
       " 'RDS_PASSWORD': 'AiCore2022',\n",
       " 'RDS_USER': 'aicore_admin',\n",
       " 'RDS_DATABASE': 'postgres',\n",
       " 'RDS_PORT': 5432}"
      ]
     },
     "execution_count": 174,
     "metadata": {},
     "output_type": "execute_result"
    }
   ],
   "source": [
    "def read_db_creds(creds_filepath):\n",
    "    with open(creds_filepath) as f:\n",
    "        creds = yaml.load(f, Loader=SafeLoader)\n",
    "        return creds\n",
    "    \n",
    "read_db_creds('db_creds.yaml')"
   ]
  },
  {
   "cell_type": "code",
   "execution_count": 175,
   "metadata": {},
   "outputs": [],
   "source": [
    "creds = read_db_creds('db_creds.yaml')\n",
    "def init_db_engine(creds):\n",
    "    engine = create_engine(f\"postgresql://{creds['RDS_USER']}:{creds['RDS_PASSWORD']}@{creds['RDS_HOST']}:{creds['RDS_PORT']}/{creds['RDS_DATABASE']}\")\n",
    "    return engine.connect()"
   ]
  },
  {
   "cell_type": "code",
   "execution_count": 176,
   "metadata": {},
   "outputs": [
    {
     "name": "stderr",
     "output_type": "stream",
     "text": [
      "Exception during reset or similar\n",
      "Traceback (most recent call last):\n",
      "  File \"/home/van28/anaconda3/envs/my_env/lib/python3.10/site-packages/sqlalchemy/pool/base.py\", line 763, in _finalize_fairy\n",
      "    fairy._reset(pool, transaction_was_reset)\n",
      "  File \"/home/van28/anaconda3/envs/my_env/lib/python3.10/site-packages/sqlalchemy/pool/base.py\", line 1038, in _reset\n",
      "    pool._dialect.do_rollback(self)\n",
      "  File \"/home/van28/anaconda3/envs/my_env/lib/python3.10/site-packages/sqlalchemy/engine/default.py\", line 683, in do_rollback\n",
      "    dbapi_connection.rollback()\n",
      "psycopg2.OperationalError: SSL SYSCALL error: EOF detected\n",
      "\n"
     ]
    },
    {
     "data": {
      "text/plain": [
       "['legacy_store_details', 'legacy_users', 'orders_table']"
      ]
     },
     "execution_count": 176,
     "metadata": {},
     "output_type": "execute_result"
    }
   ],
   "source": [
    "run_engine = init_db_engine(creds)\n",
    "def list_db_tables():\n",
    "        inspector = inspect(run_engine)\n",
    "        table_names = inspector.get_table_names()\n",
    "        return table_names\n",
    "\n",
    "list_db_tables()"
   ]
  },
  {
   "cell_type": "code",
   "execution_count": 177,
   "metadata": {},
   "outputs": [],
   "source": [
    "def read_rds_tables(table_names):\n",
    "    df = pd.read_sql_table(table_names[1],run_engine)\n",
    "    return df"
   ]
  },
  {
   "cell_type": "code",
   "execution_count": 178,
   "metadata": {},
   "outputs": [
    {
     "name": "stdout",
     "output_type": "stream",
     "text": [
      "   index first_name last_name date_of_birth                    company  \\\n",
      "0      0   Sigfried     Noack    1990-09-30         Heydrich Junitz KG   \n",
      "1      1        Guy     Allen    1940-12-01                    Fox Ltd   \n",
      "2      2      Harry  Lawrence    1995-08-02  Johnson, Jones and Harris   \n",
      "3      3     Darren   Hussain    1972-09-23                Wheeler LLC   \n",
      "4      4      Garry     Stone    1952-12-20                 Warner Inc   \n",
      "\n",
      "                  email_address  \\\n",
      "0             rudi79@winkler.de   \n",
      "1  rhodesclifford@henderson.com   \n",
      "2  glen98@bryant-marshall.co.uk   \n",
      "3    daniellebryan@thompson.org   \n",
      "4       billy14@long-warren.com   \n",
      "\n",
      "                                             address         country  \\\n",
      "0                       Zimmerstr. 1/0\\n59015 Gießen         Germany   \n",
      "1  Studio 22a\\nLynne terrace\\nMcCarthymouth\\nTF0 9GH  United Kingdom   \n",
      "2                 92 Ann drive\\nJoanborough\\nSK0 6LR  United Kingdom   \n",
      "3             19 Robinson meadow\\nNew Tracy\\nW22 2QG  United Kingdom   \n",
      "4              3 White pass\\nHunterborough\\nNN96 4UE  United Kingdom   \n",
      "\n",
      "  country_code       phone_number   join_date  \\\n",
      "0           DE   +49(0) 047905356  2018-10-10   \n",
      "1           GB    (0161) 496 0674  2001-12-20   \n",
      "2           GB  +44(0)121 4960340  2016-12-16   \n",
      "3           GB    (0306) 999 0871  2004-02-23   \n",
      "4           GB      0121 496 0225  2006-09-01   \n",
      "\n",
      "                              user_uuid  \n",
      "0  93caf182-e4e9-4c6e-bebb-60a1a9dcf9b8  \n",
      "1  8fe96c3a-d62d-4eb5-b313-cf12d9126a49  \n",
      "2  fc461df4-b919-48b2-909e-55c95a03fe6b  \n",
      "3  6104719f-ef14-4b09-bf04-fb0c4620acb0  \n",
      "4  9523a6d3-b2dd-4670-a51a-36aebc89f579  \n"
     ]
    }
   ],
   "source": [
    "table_names = list_db_tables()\n",
    "table = read_rds_tables(table_names)\n",
    "print(table.head(5))"
   ]
  },
  {
   "cell_type": "code",
   "execution_count": 39,
   "metadata": {},
   "outputs": [],
   "source": [
    "string_table = table.to_string('users.txt')"
   ]
  },
  {
   "cell_type": "code",
   "execution_count": 7,
   "metadata": {},
   "outputs": [
    {
     "name": "stdout",
     "output_type": "stream",
     "text": [
      "<class 'pandas.core.frame.DataFrame'>\n",
      "RangeIndex: 15320 entries, 0 to 15319\n",
      "Data columns (total 12 columns):\n",
      " #   Column         Non-Null Count  Dtype \n",
      "---  ------         --------------  ----- \n",
      " 0   index          15320 non-null  int64 \n",
      " 1   first_name     15320 non-null  object\n",
      " 2   last_name      15320 non-null  object\n",
      " 3   date_of_birth  15320 non-null  object\n",
      " 4   company        15320 non-null  object\n",
      " 5   email_address  15320 non-null  object\n",
      " 6   address        15320 non-null  object\n",
      " 7   country        15320 non-null  object\n",
      " 8   country_code   15320 non-null  object\n",
      " 9   phone_number   15320 non-null  object\n",
      " 10  join_date      15320 non-null  object\n",
      " 11  user_uuid      15320 non-null  object\n",
      "dtypes: int64(1), object(11)\n",
      "memory usage: 1.4+ MB\n"
     ]
    }
   ],
   "source": [
    "table.info()"
   ]
  },
  {
   "cell_type": "code",
   "execution_count": 44,
   "metadata": {},
   "outputs": [
    {
     "data": {
      "text/plain": [
       "index             int64\n",
       "first_name       object\n",
       "last_name        object\n",
       "date_of_birth    object\n",
       "company          object\n",
       "email_address    object\n",
       "address          object\n",
       "country          object\n",
       "country_code     object\n",
       "phone_number     object\n",
       "join_date        object\n",
       "user_uuid        object\n",
       "dtype: object"
      ]
     },
     "execution_count": 44,
     "metadata": {},
     "output_type": "execute_result"
    }
   ],
   "source": [
    "table.dtypes"
   ]
  },
  {
   "cell_type": "code",
   "execution_count": 28,
   "metadata": {},
   "outputs": [
    {
     "name": "stdout",
     "output_type": "stream",
     "text": [
      "Index(['index', 'first_name', 'last_name', 'date_of_birth', 'company',\n",
      "       'email_address', 'address', 'country', 'country_code', 'phone_number',\n",
      "       'join_date', 'user_uuid'],\n",
      "      dtype='object')\n",
      "12\n"
     ]
    }
   ],
   "source": [
    "print(table.columns)\n",
    "print(len(table.columns))"
   ]
  },
  {
   "cell_type": "code",
   "execution_count": 179,
   "metadata": {},
   "outputs": [
    {
     "name": "stdout",
     "output_type": "stream",
     "text": [
      "21\n"
     ]
    }
   ],
   "source": [
    "# How many NULL values?\n",
    "count_null = 0\n",
    "for index, row in table.iterrows():\n",
    "    if row['first_name'] == 'NULL':\n",
    "        count_null +=1\n",
    "print(count_null)"
   ]
  },
  {
   "cell_type": "code",
   "execution_count": 44,
   "metadata": {},
   "outputs": [
    {
     "name": "stdout",
     "output_type": "stream",
     "text": [
      "Empty DataFrame\n",
      "Columns: [index, first_name, last_name, date_of_birth, company, email_address, address, country, country_code, phone_number, join_date, user_uuid]\n",
      "Index: []\n"
     ]
    }
   ],
   "source": [
    "null_values = table[table['first_name'].isnull()]\n",
    "print(null_values)"
   ]
  },
  {
   "cell_type": "code",
   "execution_count": 180,
   "metadata": {},
   "outputs": [
    {
     "name": "stdout",
     "output_type": "stream",
     "text": [
      "15299\n",
      "15320\n"
     ]
    }
   ],
   "source": [
    "# Solution: Eliminate NULL values\n",
    "\n",
    "table_null = table[table.first_name != 'NULL']\n",
    "print(len(table_null))\n",
    "print(len(table))"
   ]
  },
  {
   "cell_type": "code",
   "execution_count": 181,
   "metadata": {},
   "outputs": [],
   "source": [
    "# Deal with date formats\n",
    "users_dates = table[['date_of_birth','join_date']]"
   ]
  },
  {
   "cell_type": "code",
   "execution_count": 77,
   "metadata": {},
   "outputs": [],
   "source": [
    "users_dates.to_string('user_dates.txt')"
   ]
  },
  {
   "cell_type": "code",
   "execution_count": 182,
   "metadata": {},
   "outputs": [],
   "source": [
    "# Solution: \n",
    "# Results in cleaned_dates.txt\n",
    "import datetime\n",
    "format = '%Y-%m-%d'\n",
    "\n",
    "cleaned_dates = users_dates.apply(pd.to_datetime, infer_datetime_format=True, errors='coerce')\n",
    "cleaned_dates.to_string('cleaned_dates.txt')"
   ]
  },
  {
   "cell_type": "code",
   "execution_count": 183,
   "metadata": {},
   "outputs": [
    {
     "ename": "ValueError",
     "evalue": "Boolean array expected for the condition, not object",
     "output_type": "error",
     "traceback": [
      "\u001b[0;31m---------------------------------------------------------------------------\u001b[0m",
      "\u001b[0;31mValueError\u001b[0m                                Traceback (most recent call last)",
      "\u001b[1;32m/home/van28/Desktop/AiCore/Projects/MRDC_Project/experiment.ipynb Cell 17\u001b[0m in \u001b[0;36m2\n\u001b[1;32m      <a href='vscode-notebook-cell:/home/van28/Desktop/AiCore/Projects/MRDC_Project/experiment.ipynb#X55sZmlsZQ%3D%3D?line=0'>1</a>\u001b[0m date_cols \u001b[39m=\u001b[39m table[[\u001b[39m'\u001b[39m\u001b[39mdate_of_birth\u001b[39m\u001b[39m'\u001b[39m,\u001b[39m'\u001b[39m\u001b[39mjoin_date\u001b[39m\u001b[39m'\u001b[39m]]\n\u001b[0;32m----> <a href='vscode-notebook-cell:/home/van28/Desktop/AiCore/Projects/MRDC_Project/experiment.ipynb#X55sZmlsZQ%3D%3D?line=1'>2</a>\u001b[0m users_df_clean \u001b[39m=\u001b[39m table[date_cols\u001b[39m.\u001b[39;49mapply(pd\u001b[39m.\u001b[39;49mto_datetime, \n\u001b[1;32m      <a href='vscode-notebook-cell:/home/van28/Desktop/AiCore/Projects/MRDC_Project/experiment.ipynb#X55sZmlsZQ%3D%3D?line=2'>3</a>\u001b[0m                                           infer_datetime_format\u001b[39m=\u001b[39;49m\u001b[39mTrue\u001b[39;49;00m, \u001b[39m# Fix dates\u001b[39;49;00m\n\u001b[1;32m      <a href='vscode-notebook-cell:/home/van28/Desktop/AiCore/Projects/MRDC_Project/experiment.ipynb#X55sZmlsZQ%3D%3D?line=3'>4</a>\u001b[0m                                           errors\u001b[39m=\u001b[39;49m\u001b[39m'\u001b[39;49m\u001b[39mcoerce\u001b[39;49m\u001b[39m'\u001b[39;49m)]\n\u001b[1;32m      <a href='vscode-notebook-cell:/home/van28/Desktop/AiCore/Projects/MRDC_Project/experiment.ipynb#X55sZmlsZQ%3D%3D?line=4'>5</a>\u001b[0m users_df_clean\u001b[39m.\u001b[39mto_string(\u001b[39m'\u001b[39m\u001b[39mcleaned_dates.txt\u001b[39m\u001b[39m'\u001b[39m)\n",
      "File \u001b[0;32m~/anaconda3/envs/my_env/lib/python3.10/site-packages/pandas/core/frame.py:3792\u001b[0m, in \u001b[0;36mDataFrame.__getitem__\u001b[0;34m(self, key)\u001b[0m\n\u001b[1;32m   3790\u001b[0m \u001b[39m# Do we have a (boolean) DataFrame?\u001b[39;00m\n\u001b[1;32m   3791\u001b[0m \u001b[39mif\u001b[39;00m \u001b[39misinstance\u001b[39m(key, DataFrame):\n\u001b[0;32m-> 3792\u001b[0m     \u001b[39mreturn\u001b[39;00m \u001b[39mself\u001b[39;49m\u001b[39m.\u001b[39;49mwhere(key)\n\u001b[1;32m   3794\u001b[0m \u001b[39m# Do we have a (boolean) 1d indexer?\u001b[39;00m\n\u001b[1;32m   3795\u001b[0m \u001b[39mif\u001b[39;00m com\u001b[39m.\u001b[39mis_bool_indexer(key):\n",
      "File \u001b[0;32m~/anaconda3/envs/my_env/lib/python3.10/site-packages/pandas/util/_decorators.py:211\u001b[0m, in \u001b[0;36mdeprecate_kwarg.<locals>._deprecate_kwarg.<locals>.wrapper\u001b[0;34m(*args, **kwargs)\u001b[0m\n\u001b[1;32m    209\u001b[0m     \u001b[39melse\u001b[39;00m:\n\u001b[1;32m    210\u001b[0m         kwargs[new_arg_name] \u001b[39m=\u001b[39m new_arg_value\n\u001b[0;32m--> 211\u001b[0m \u001b[39mreturn\u001b[39;00m func(\u001b[39m*\u001b[39;49margs, \u001b[39m*\u001b[39;49m\u001b[39m*\u001b[39;49mkwargs)\n",
      "File \u001b[0;32m~/anaconda3/envs/my_env/lib/python3.10/site-packages/pandas/util/_decorators.py:331\u001b[0m, in \u001b[0;36mdeprecate_nonkeyword_arguments.<locals>.decorate.<locals>.wrapper\u001b[0;34m(*args, **kwargs)\u001b[0m\n\u001b[1;32m    325\u001b[0m \u001b[39mif\u001b[39;00m \u001b[39mlen\u001b[39m(args) \u001b[39m>\u001b[39m num_allow_args:\n\u001b[1;32m    326\u001b[0m     warnings\u001b[39m.\u001b[39mwarn(\n\u001b[1;32m    327\u001b[0m         msg\u001b[39m.\u001b[39mformat(arguments\u001b[39m=\u001b[39m_format_argument_list(allow_args)),\n\u001b[1;32m    328\u001b[0m         \u001b[39mFutureWarning\u001b[39;00m,\n\u001b[1;32m    329\u001b[0m         stacklevel\u001b[39m=\u001b[39mfind_stack_level(),\n\u001b[1;32m    330\u001b[0m     )\n\u001b[0;32m--> 331\u001b[0m \u001b[39mreturn\u001b[39;00m func(\u001b[39m*\u001b[39;49margs, \u001b[39m*\u001b[39;49m\u001b[39m*\u001b[39;49mkwargs)\n",
      "File \u001b[0;32m~/anaconda3/envs/my_env/lib/python3.10/site-packages/pandas/core/frame.py:11920\u001b[0m, in \u001b[0;36mDataFrame.where\u001b[0;34m(self, cond, other, inplace, axis, level, errors, try_cast)\u001b[0m\n\u001b[1;32m  11906\u001b[0m \u001b[39m@deprecate_kwarg\u001b[39m(old_arg_name\u001b[39m=\u001b[39m\u001b[39m\"\u001b[39m\u001b[39merrors\u001b[39m\u001b[39m\"\u001b[39m, new_arg_name\u001b[39m=\u001b[39m\u001b[39mNone\u001b[39;00m)\n\u001b[1;32m  11907\u001b[0m \u001b[39m@deprecate_nonkeyword_arguments\u001b[39m(\n\u001b[1;32m  11908\u001b[0m     version\u001b[39m=\u001b[39m\u001b[39mNone\u001b[39;00m, allowed_args\u001b[39m=\u001b[39m[\u001b[39m\"\u001b[39m\u001b[39mself\u001b[39m\u001b[39m\"\u001b[39m, \u001b[39m\"\u001b[39m\u001b[39mcond\u001b[39m\u001b[39m\"\u001b[39m, \u001b[39m\"\u001b[39m\u001b[39mother\u001b[39m\u001b[39m\"\u001b[39m]\n\u001b[0;32m   (...)\u001b[0m\n\u001b[1;32m  11918\u001b[0m     try_cast: \u001b[39mbool\u001b[39m \u001b[39m|\u001b[39m lib\u001b[39m.\u001b[39mNoDefault \u001b[39m=\u001b[39m lib\u001b[39m.\u001b[39mno_default,\n\u001b[1;32m  11919\u001b[0m ) \u001b[39m-\u001b[39m\u001b[39m>\u001b[39m DataFrame \u001b[39m|\u001b[39m \u001b[39mNone\u001b[39;00m:\n\u001b[0;32m> 11920\u001b[0m     \u001b[39mreturn\u001b[39;00m \u001b[39msuper\u001b[39;49m()\u001b[39m.\u001b[39;49mwhere(\n\u001b[1;32m  11921\u001b[0m         cond,\n\u001b[1;32m  11922\u001b[0m         other,\n\u001b[1;32m  11923\u001b[0m         inplace\u001b[39m=\u001b[39;49minplace,\n\u001b[1;32m  11924\u001b[0m         axis\u001b[39m=\u001b[39;49maxis,\n\u001b[1;32m  11925\u001b[0m         level\u001b[39m=\u001b[39;49mlevel,\n\u001b[1;32m  11926\u001b[0m         try_cast\u001b[39m=\u001b[39;49mtry_cast,\n\u001b[1;32m  11927\u001b[0m     )\n",
      "File \u001b[0;32m~/anaconda3/envs/my_env/lib/python3.10/site-packages/pandas/util/_decorators.py:211\u001b[0m, in \u001b[0;36mdeprecate_kwarg.<locals>._deprecate_kwarg.<locals>.wrapper\u001b[0;34m(*args, **kwargs)\u001b[0m\n\u001b[1;32m    209\u001b[0m     \u001b[39melse\u001b[39;00m:\n\u001b[1;32m    210\u001b[0m         kwargs[new_arg_name] \u001b[39m=\u001b[39m new_arg_value\n\u001b[0;32m--> 211\u001b[0m \u001b[39mreturn\u001b[39;00m func(\u001b[39m*\u001b[39;49margs, \u001b[39m*\u001b[39;49m\u001b[39m*\u001b[39;49mkwargs)\n",
      "File \u001b[0;32m~/anaconda3/envs/my_env/lib/python3.10/site-packages/pandas/util/_decorators.py:331\u001b[0m, in \u001b[0;36mdeprecate_nonkeyword_arguments.<locals>.decorate.<locals>.wrapper\u001b[0;34m(*args, **kwargs)\u001b[0m\n\u001b[1;32m    325\u001b[0m \u001b[39mif\u001b[39;00m \u001b[39mlen\u001b[39m(args) \u001b[39m>\u001b[39m num_allow_args:\n\u001b[1;32m    326\u001b[0m     warnings\u001b[39m.\u001b[39mwarn(\n\u001b[1;32m    327\u001b[0m         msg\u001b[39m.\u001b[39mformat(arguments\u001b[39m=\u001b[39m_format_argument_list(allow_args)),\n\u001b[1;32m    328\u001b[0m         \u001b[39mFutureWarning\u001b[39;00m,\n\u001b[1;32m    329\u001b[0m         stacklevel\u001b[39m=\u001b[39mfind_stack_level(),\n\u001b[1;32m    330\u001b[0m     )\n\u001b[0;32m--> 331\u001b[0m \u001b[39mreturn\u001b[39;00m func(\u001b[39m*\u001b[39;49margs, \u001b[39m*\u001b[39;49m\u001b[39m*\u001b[39;49mkwargs)\n",
      "File \u001b[0;32m~/anaconda3/envs/my_env/lib/python3.10/site-packages/pandas/core/generic.py:9968\u001b[0m, in \u001b[0;36mNDFrame.where\u001b[0;34m(self, cond, other, inplace, axis, level, errors, try_cast)\u001b[0m\n\u001b[1;32m   9960\u001b[0m \u001b[39mif\u001b[39;00m try_cast \u001b[39mis\u001b[39;00m \u001b[39mnot\u001b[39;00m lib\u001b[39m.\u001b[39mno_default:\n\u001b[1;32m   9961\u001b[0m     warnings\u001b[39m.\u001b[39mwarn(\n\u001b[1;32m   9962\u001b[0m         \u001b[39m\"\u001b[39m\u001b[39mtry_cast keyword is deprecated and will be removed in a \u001b[39m\u001b[39m\"\u001b[39m\n\u001b[1;32m   9963\u001b[0m         \u001b[39m\"\u001b[39m\u001b[39mfuture version.\u001b[39m\u001b[39m\"\u001b[39m,\n\u001b[1;32m   9964\u001b[0m         \u001b[39mFutureWarning\u001b[39;00m,\n\u001b[1;32m   9965\u001b[0m         stacklevel\u001b[39m=\u001b[39mfind_stack_level(),\n\u001b[1;32m   9966\u001b[0m     )\n\u001b[0;32m-> 9968\u001b[0m \u001b[39mreturn\u001b[39;00m \u001b[39mself\u001b[39;49m\u001b[39m.\u001b[39;49m_where(cond, other, inplace, axis, level)\n",
      "File \u001b[0;32m~/anaconda3/envs/my_env/lib/python3.10/site-packages/pandas/core/generic.py:9657\u001b[0m, in \u001b[0;36mNDFrame._where\u001b[0;34m(self, cond, other, inplace, axis, level)\u001b[0m\n\u001b[1;32m   9655\u001b[0m         \u001b[39mfor\u001b[39;00m dt \u001b[39min\u001b[39;00m cond\u001b[39m.\u001b[39mdtypes:\n\u001b[1;32m   9656\u001b[0m             \u001b[39mif\u001b[39;00m \u001b[39mnot\u001b[39;00m is_bool_dtype(dt):\n\u001b[0;32m-> 9657\u001b[0m                 \u001b[39mraise\u001b[39;00m \u001b[39mValueError\u001b[39;00m(msg\u001b[39m.\u001b[39mformat(dtype\u001b[39m=\u001b[39mdt))\n\u001b[1;32m   9658\u001b[0m \u001b[39melse\u001b[39;00m:\n\u001b[1;32m   9659\u001b[0m     \u001b[39m# GH#21947 we have an empty DataFrame/Series, could be object-dtype\u001b[39;00m\n\u001b[1;32m   9660\u001b[0m     cond \u001b[39m=\u001b[39m cond\u001b[39m.\u001b[39mastype(\u001b[39mbool\u001b[39m)\n",
      "\u001b[0;31mValueError\u001b[0m: Boolean array expected for the condition, not object"
     ]
    }
   ],
   "source": [
    "date_cols = table[['date_of_birth','join_date']]\n",
    "users_df_clean = date_cols.apply(pd.to_datetime, \n",
    "                                          infer_datetime_format=True, # Fix dates\n",
    "                                          errors='coerce')\n",
    "users_df_clean.to_string('cleaned_dates.txt')"
   ]
  },
  {
   "cell_type": "code",
   "execution_count": 94,
   "metadata": {},
   "outputs": [],
   "source": [
    "# Remove /n \n",
    "address_col = table['address']\n",
    "address_col.to_string('address.txt')"
   ]
  },
  {
   "cell_type": "code",
   "execution_count": 132,
   "metadata": {},
   "outputs": [
    {
     "name": "stdout",
     "output_type": "stream",
     "text": [
      "Zimmerstr. 1/0\n",
      "59015 Gießen\n",
      "Zimmerstr. 1/0 59015 Gießen\n"
     ]
    }
   ],
   "source": [
    "address_col = table['address']\n",
    "print(address_col.iloc[0])\n",
    "print(address_col.iloc[0].replace('\\n',' '))"
   ]
  },
  {
   "cell_type": "code",
   "execution_count": 151,
   "metadata": {},
   "outputs": [],
   "source": [
    "# Solution: remove spaces \\n\n",
    "address_col = address_col.apply(lambda x:x.replace('\\n', ','))\n",
    "address_col.to_string('address_clean.txt')"
   ]
  },
  {
   "cell_type": "code",
   "execution_count": 166,
   "metadata": {},
   "outputs": [],
   "source": [
    "address_col.to_csv('address_clean.csv')"
   ]
  },
  {
   "cell_type": "code",
   "execution_count": 172,
   "metadata": {},
   "outputs": [
    {
     "name": "stdout",
     "output_type": "stream",
     "text": [
      "Studio 89W,Laura junctions,West Nicolashire,B0 5FU\n"
     ]
    }
   ],
   "source": [
    "check_address = pd.read_csv('address_clean.csv')\n",
    "print(check_address['address'].iloc[113])"
   ]
  },
  {
   "cell_type": "code",
   "execution_count": 29,
   "metadata": {},
   "outputs": [
    {
     "data": {
      "text/html": [
       "<div>\n",
       "<style scoped>\n",
       "    .dataframe tbody tr th:only-of-type {\n",
       "        vertical-align: middle;\n",
       "    }\n",
       "\n",
       "    .dataframe tbody tr th {\n",
       "        vertical-align: top;\n",
       "    }\n",
       "\n",
       "    .dataframe thead th {\n",
       "        text-align: right;\n",
       "    }\n",
       "</style>\n",
       "<table border=\"1\" class=\"dataframe\">\n",
       "  <thead>\n",
       "    <tr style=\"text-align: right;\">\n",
       "      <th></th>\n",
       "      <th>first_name</th>\n",
       "      <th>last_name</th>\n",
       "      <th>last_update</th>\n",
       "    </tr>\n",
       "    <tr>\n",
       "      <th>actor_id</th>\n",
       "      <th></th>\n",
       "      <th></th>\n",
       "      <th></th>\n",
       "    </tr>\n",
       "  </thead>\n",
       "  <tbody>\n",
       "    <tr>\n",
       "      <th>1</th>\n",
       "      <td>PENELOPE</td>\n",
       "      <td>GUINESS</td>\n",
       "      <td>2006-02-15 09:34:33</td>\n",
       "    </tr>\n",
       "    <tr>\n",
       "      <th>2</th>\n",
       "      <td>NICK</td>\n",
       "      <td>WAHLBERG</td>\n",
       "      <td>2006-02-15 09:34:33</td>\n",
       "    </tr>\n",
       "    <tr>\n",
       "      <th>3</th>\n",
       "      <td>ED</td>\n",
       "      <td>CHASE</td>\n",
       "      <td>2006-02-15 09:34:33</td>\n",
       "    </tr>\n",
       "    <tr>\n",
       "      <th>4</th>\n",
       "      <td>JENNIFER</td>\n",
       "      <td>DAVIS</td>\n",
       "      <td>2006-02-15 09:34:33</td>\n",
       "    </tr>\n",
       "    <tr>\n",
       "      <th>5</th>\n",
       "      <td>JOHNNY</td>\n",
       "      <td>LOLLOBRIGIDA</td>\n",
       "      <td>2006-02-15 09:34:33</td>\n",
       "    </tr>\n",
       "    <tr>\n",
       "      <th>6</th>\n",
       "      <td>BETTE</td>\n",
       "      <td>NICHOLSON</td>\n",
       "      <td>2006-02-15 09:34:33</td>\n",
       "    </tr>\n",
       "    <tr>\n",
       "      <th>7</th>\n",
       "      <td>GRACE</td>\n",
       "      <td>MOSTEL</td>\n",
       "      <td>2006-02-15 09:34:33</td>\n",
       "    </tr>\n",
       "    <tr>\n",
       "      <th>8</th>\n",
       "      <td>MATTHEW</td>\n",
       "      <td>JOHANSSON</td>\n",
       "      <td>2006-02-15 09:34:33</td>\n",
       "    </tr>\n",
       "    <tr>\n",
       "      <th>9</th>\n",
       "      <td>JOE</td>\n",
       "      <td>SWANK</td>\n",
       "      <td>2006-02-15 09:34:33</td>\n",
       "    </tr>\n",
       "    <tr>\n",
       "      <th>10</th>\n",
       "      <td>CHRISTIAN</td>\n",
       "      <td>GABLE</td>\n",
       "      <td>2006-02-15 09:34:33</td>\n",
       "    </tr>\n",
       "  </tbody>\n",
       "</table>\n",
       "</div>"
      ],
      "text/plain": [
       "         first_name     last_name         last_update\n",
       "actor_id                                             \n",
       "1          PENELOPE       GUINESS 2006-02-15 09:34:33\n",
       "2              NICK      WAHLBERG 2006-02-15 09:34:33\n",
       "3                ED         CHASE 2006-02-15 09:34:33\n",
       "4          JENNIFER         DAVIS 2006-02-15 09:34:33\n",
       "5            JOHNNY  LOLLOBRIGIDA 2006-02-15 09:34:33\n",
       "6             BETTE     NICHOLSON 2006-02-15 09:34:33\n",
       "7             GRACE        MOSTEL 2006-02-15 09:34:33\n",
       "8           MATTHEW     JOHANSSON 2006-02-15 09:34:33\n",
       "9               JOE         SWANK 2006-02-15 09:34:33\n",
       "10        CHRISTIAN         GABLE 2006-02-15 09:34:33"
      ]
     },
     "execution_count": 29,
     "metadata": {},
     "output_type": "execute_result"
    }
   ],
   "source": [
    "actors = pd.read_sql_query('''SELECT * FROM actor LIMIT 10''', engine).set_index('actor_id')\n",
    "actors"
   ]
  },
  {
   "attachments": {},
   "cell_type": "markdown",
   "metadata": {},
   "source": [
    "Details: \n",
    "\n",
    "Create a string with the next value \"Hello, my name is {name} and I am {age} years old\" and store it in a variable called message.\n",
    "For example, if the user enters John and 25, the output should be:\n",
    "Hello, my name is John and I am 25 years old\n",
    "Print the value of message using the print() function.\n",
    "\n",
    "TODO - Create a variable called message that contains the mentioned string\n",
    "\n",
    "name = input(\"Enter your name: \")\n",
    "age = input(\"Enter your Age: \")\n",
    "message = \"Hello, my name is {name} and I am {age} years old\"\n",
    "print(f'message {name},{age}')\n",
    "\n",
    "The output I am getting is :\n",
    "message John,25.\n",
    "\n",
    "Attempted Solution: \n",
    "\n",
    "I have tried it, but not getting the required solution. Please help"
   ]
  },
  {
   "cell_type": "code",
   "execution_count": 70,
   "metadata": {},
   "outputs": [
    {
     "name": "stdout",
     "output_type": "stream",
     "text": [
      "message van,24\n"
     ]
    }
   ],
   "source": [
    "name = input(\"Enter your name: \")\n",
    "age = input(\"Enter your Age: \")\n",
    "message = \"Hello, my name is {name} and I am {age} years old\"\n",
    "print(f'message {name},{age}')\n"
   ]
  },
  {
   "cell_type": "code",
   "execution_count": 71,
   "metadata": {},
   "outputs": [
    {
     "name": "stdout",
     "output_type": "stream",
     "text": [
      "Hello, my name is van and I am 24 years old\n"
     ]
    }
   ],
   "source": [
    "message = f\"Hello, my name is {name} and I am {age} years old\"\n",
    "print(message)"
   ]
  }
 ],
 "metadata": {
  "kernelspec": {
   "display_name": "my_env",
   "language": "python",
   "name": "python3"
  },
  "language_info": {
   "codemirror_mode": {
    "name": "ipython",
    "version": 3
   },
   "file_extension": ".py",
   "mimetype": "text/x-python",
   "name": "python",
   "nbconvert_exporter": "python",
   "pygments_lexer": "ipython3",
   "version": "3.10.4"
  },
  "orig_nbformat": 4
 },
 "nbformat": 4,
 "nbformat_minor": 2
}
